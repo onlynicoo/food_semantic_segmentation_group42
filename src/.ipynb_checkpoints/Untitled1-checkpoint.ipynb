{
 "cells": [
  {
   "cell_type": "code",
   "execution_count": 16,
   "id": "268f1cac",
   "metadata": {},
   "outputs": [],
   "source": [
    "from pandasql import sqldf\n",
    "import pandas as pd\n",
    "from os import listdir\n",
    "from os.path import isfile, join\n"
   ]
  },
  {
   "cell_type": "code",
   "execution_count": 9,
   "id": "eec5f4ed",
   "metadata": {},
   "outputs": [
    {
     "name": "stdout",
     "output_type": "stream",
     "text": [
      "Requirement already satisfied: pandasql in /Users/nicolalorenzon/miniconda3/lib/python3.10/site-packages (0.7.3)\n",
      "Requirement already satisfied: pandas in /Users/nicolalorenzon/miniconda3/lib/python3.10/site-packages (from pandasql) (1.5.3)\n",
      "Requirement already satisfied: sqlalchemy in /Users/nicolalorenzon/miniconda3/lib/python3.10/site-packages (from pandasql) (2.0.15)\n",
      "Requirement already satisfied: numpy in /Users/nicolalorenzon/miniconda3/lib/python3.10/site-packages (from pandasql) (1.24.3)\n",
      "Requirement already satisfied: python-dateutil>=2.8.1 in /Users/nicolalorenzon/miniconda3/lib/python3.10/site-packages (from pandas->pandasql) (2.8.2)\n",
      "Requirement already satisfied: pytz>=2020.1 in /Users/nicolalorenzon/miniconda3/lib/python3.10/site-packages (from pandas->pandasql) (2022.7)\n",
      "Requirement already satisfied: typing-extensions>=4.2.0 in /Users/nicolalorenzon/miniconda3/lib/python3.10/site-packages (from sqlalchemy->pandasql) (4.5.0)\n",
      "Requirement already satisfied: six>=1.5 in /Users/nicolalorenzon/miniconda3/lib/python3.10/site-packages (from python-dateutil>=2.8.1->pandas->pandasql) (1.16.0)\n",
      "Note: you may need to restart the kernel to use updated packages.\n"
     ]
    }
   ],
   "source": [
    "pip install pandasql"
   ]
  },
  {
   "cell_type": "code",
   "execution_count": 7,
   "id": "13409476",
   "metadata": {},
   "outputs": [
    {
     "data": {
      "text/html": [
       "<div>\n",
       "<style scoped>\n",
       "    .dataframe tbody tr th:only-of-type {\n",
       "        vertical-align: middle;\n",
       "    }\n",
       "\n",
       "    .dataframe tbody tr th {\n",
       "        vertical-align: top;\n",
       "    }\n",
       "\n",
       "    .dataframe thead th {\n",
       "        text-align: right;\n",
       "    }\n",
       "</style>\n",
       "<table border=\"1\" class=\"dataframe\">\n",
       "  <thead>\n",
       "    <tr style=\"text-align: right;\">\n",
       "      <th></th>\n",
       "      <th>ImageId</th>\n",
       "      <th>ClassName</th>\n",
       "    </tr>\n",
       "  </thead>\n",
       "  <tbody>\n",
       "    <tr>\n",
       "      <th>0</th>\n",
       "      <td>5469ef52b5.jpg</td>\n",
       "      <td>chicken</td>\n",
       "    </tr>\n",
       "    <tr>\n",
       "      <th>1</th>\n",
       "      <td>973e7c0f2d.jpg</td>\n",
       "      <td>chicken</td>\n",
       "    </tr>\n",
       "    <tr>\n",
       "      <th>2</th>\n",
       "      <td>6e974def69.jpg</td>\n",
       "      <td>chicken</td>\n",
       "    </tr>\n",
       "    <tr>\n",
       "      <th>3</th>\n",
       "      <td>12a64e2393.jpg</td>\n",
       "      <td>chicken</td>\n",
       "    </tr>\n",
       "    <tr>\n",
       "      <th>4</th>\n",
       "      <td>70f4343cd7.jpg</td>\n",
       "      <td>chicken</td>\n",
       "    </tr>\n",
       "  </tbody>\n",
       "</table>\n",
       "</div>"
      ],
      "text/plain": [
       "          ImageId ClassName\n",
       "0  5469ef52b5.jpg   chicken\n",
       "1  973e7c0f2d.jpg   chicken\n",
       "2  6e974def69.jpg   chicken\n",
       "3  12a64e2393.jpg   chicken\n",
       "4  70f4343cd7.jpg   chicken"
      ]
     },
     "execution_count": 7,
     "metadata": {},
     "output_type": "execute_result"
    }
   ],
   "source": [
    "df = pd.read_csv(\"/Users/nicolalorenzon/Desktop/computer_vision_project/food_semantic_segmentation_group42/food_semantic_segmentation_group42/archive/train_img.csv\", sep = ';')\n",
    "df.head()"
   ]
  },
  {
   "cell_type": "code",
   "execution_count": 14,
   "id": "b1a2f249",
   "metadata": {},
   "outputs": [
    {
     "name": "stdout",
     "output_type": "stream",
     "text": [
      "Distinct entries: 61\n"
     ]
    }
   ],
   "source": [
    "print(f\"Distinct entries: {len(df.groupby(['ClassName']))}\")\n"
   ]
  },
  {
   "cell_type": "code",
   "execution_count": 22,
   "id": "8d565d09",
   "metadata": {},
   "outputs": [],
   "source": [
    "path_list = df[\"ImageId\"].tolist()"
   ]
  },
  {
   "cell_type": "code",
   "execution_count": 23,
   "id": "e2d7da27",
   "metadata": {},
   "outputs": [],
   "source": [
    "mypath = \"/Users/nicolalorenzon/Desktop/computer_vision_project/food_semantic_segmentation_group42/food_semantic_segmentation_group42/archive/test_images/test_images\""
   ]
  },
  {
   "cell_type": "code",
   "execution_count": 24,
   "id": "2fa79c0b",
   "metadata": {},
   "outputs": [],
   "source": [
    "onlyfiles = [f for f in listdir(mypath) if isfile(join(mypath, f))]"
   ]
  },
  {
   "cell_type": "code",
   "execution_count": 25,
   "id": "c91c8e23",
   "metadata": {},
   "outputs": [],
   "source": [
    "for i in onlyfiles[0:10]:\n",
    "    if i not in path_list:\n",
    "        a = \"/Users/nicolalorenzon/Desktop/computer_vision_project/food_semantic_segmentation_group42/food_semantic_segmentation_group42/archive/test_images/test_images/\" + str(i)\n",
    "        print(a)\n",
    "        %rm "
   ]
  }
 ],
 "metadata": {
  "kernelspec": {
   "display_name": "Python 3 (ipykernel)",
   "language": "python",
   "name": "python3"
  },
  "language_info": {
   "codemirror_mode": {
    "name": "ipython",
    "version": 3
   },
   "file_extension": ".py",
   "mimetype": "text/x-python",
   "name": "python",
   "nbconvert_exporter": "python",
   "pygments_lexer": "ipython3",
   "version": "3.10.9"
  }
 },
 "nbformat": 4,
 "nbformat_minor": 5
}
